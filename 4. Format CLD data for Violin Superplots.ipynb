{
 "cells": [
  {
   "cell_type": "markdown",
   "metadata": {},
   "source": [
    "## VIOLIN SUPERPLOT MAKER"
   ]
  },
  {
   "cell_type": "markdown",
   "metadata": {},
   "source": [
    "##### Put your .npy files for one Violinplot in a directory\n",
    "##### name your .npy as the following example, especially the category (T0) and the replicate (1) because they will be extracted automatically:\n",
    "##### J3_3bKL_T0_1\n"
   ]
  },
  {
   "cell_type": "code",
   "execution_count": 1,
   "metadata": {},
   "outputs": [
    {
     "name": "stdout",
     "output_type": "stream",
     "text": [
      "       Categories  Chords Replicate\n",
      "0              T0    1.54         1\n",
      "1              T0    1.68         1\n",
      "2              T0    1.47         1\n",
      "3              T0    1.40         1\n",
      "4              T0    1.40         1\n",
      "...           ...     ...       ...\n",
      "296098        T90    3.92         3\n",
      "296099        T90    3.50         3\n",
      "296100        T90    3.15         3\n",
      "296101        T90    2.45         3\n",
      "296102        T90    1.75         3\n",
      "\n",
      "[296103 rows x 3 columns]\n",
      "DataFrame saved as 'C:/Users/au704688/OneDrive - Aarhus universitet/Martin Gobry/Nanostars/Data processing/2024.03.04 - 10X inv 2NS sequencial/24.03.04_Violin plot data.csv'\n"
     ]
    }
   ],
   "source": [
    "import os\n",
    "import numpy as np\n",
    "import pandas as pd\n",
    "\n",
    "# Replace this with the path to your directory\n",
    "directory = 'C:/Users/Directory'\n",
    "\n",
    "# Set the calibration value\n",
    "calibration = 0.07 #in LA\n",
    "#calibration = 0.1484 # in AU with 63X\n",
    "\n",
    "# Get a list of all .npy files in the directory\n",
    "npy_files = [file for file in os.listdir(directory) if file.endswith('.npy')]\n",
    "\n",
    "# Create an empty list to store rows for the DataFrame\n",
    "data_rows = []\n",
    "\n",
    "# Load each .npy file, extract category and replicate from the name, and append data to the list\n",
    "for npy_file in npy_files:\n",
    "    variable_name = npy_file.replace('.npy', '')\n",
    "    parts = variable_name.split('_')\n",
    "    category = parts[-2]  # Extract category from the name\n",
    "    replicate = parts[-1]  # Extract replicate from the name\n",
    "    data = calibration * np.load(os.path.join(directory, npy_file), allow_pickle=True)\n",
    "    \n",
    "    # Loop through the data array and create rows for the DataFrame\n",
    "    for value in data:\n",
    "        data_rows.append([category, value, replicate])\n",
    "\n",
    "# Create a DataFrame from the list of rows\n",
    "df = pd.DataFrame(data_rows, columns=['Categories', 'Chords', 'Replicate'])\n",
    "print(df)\n",
    "\n",
    "# Save the DataFrame as a CSV file\n",
    "csv_filename = 'C:/Users/Directory/24.03.04_Violin plot data.csv'   # Change this to your desired CSV file name\n",
    "df.to_csv(csv_filename, index=False)\n",
    "\n",
    "print(f\"DataFrame saved as '{csv_filename}'\")"
   ]
  },
  {
   "cell_type": "code",
   "execution_count": 4,
   "metadata": {},
   "outputs": [
    {
     "name": "stdout",
     "output_type": "stream",
     "text": [
      "Highest Chord Length for Category T0: 9.590000000000002\n",
      "Highest Chord Length for Category T135: 43.190000000000005\n",
      "Highest Chord Length for Category T180: 31.710000000000004\n",
      "Highest Chord Length for Category T225: 7.56\n",
      "Highest Chord Length for Category T45: 12.6\n",
      "Highest Chord Length for Category T90: 33.6\n"
     ]
    }
   ],
   "source": [
    "import pandas as pd\n",
    "\n",
    "# Load the CSV file that you saved in your previous code\n",
    "csv_filename = 'C:/Users/au704688/OneDrive - Aarhus universitet/Martin Gobry/Nanostars/Data processing/2023.06.08-12 3bKL T3 bis/Chords/3bKL_inv.csv'\n",
    "\n",
    "# Read the CSV into a Pandas DataFrame\n",
    "df = pd.read_csv(csv_filename)\n",
    "\n",
    "# Get unique values of Categories\n",
    "categories_groups = df['Categories'].unique()\n",
    "\n",
    "# Iterate over each Categories group\n",
    "for category_group in categories_groups:\n",
    "    # Filter the DataFrame for the current Categories group\n",
    "    filtered_df = df[df['Categories'] == category_group]\n",
    "    \n",
    "    # Find the highest Chord length for this group\n",
    "    highest_chord_length = filtered_df['Chords'].max()\n",
    "    \n",
    "    # Print the result for the current Categories group\n",
    "    print(f\"Highest Chord Length for Category {category_group}: {highest_chord_length}\")\n",
    "\n"
   ]
  },
  {
   "cell_type": "markdown",
   "metadata": {},
   "source": [
    "### Log10 of Chords"
   ]
  },
  {
   "cell_type": "code",
   "execution_count": 5,
   "metadata": {},
   "outputs": [
    {
     "name": "stdout",
     "output_type": "stream",
     "text": [
      "       Categories    Chords Replicate\n",
      "0              T1  0.878522         1\n",
      "1              T1  0.878522         1\n",
      "2              T1  0.878522         1\n",
      "3              T1  0.878522         1\n",
      "4              T1  0.878522         1\n",
      "...           ...       ...       ...\n",
      "204198         T5  0.401401         3\n",
      "204199         T5  0.350248         3\n",
      "204200         T5  0.292256         3\n",
      "204201         T5  0.187521         3\n",
      "204202         T5 -0.008774         3\n",
      "\n",
      "[204203 rows x 3 columns]\n",
      "DataFrame saved as 'C:/Users/au704688/OneDrive - Aarhus universitet/Martin Gobry/Nanostars/Data processing/2023.05.23 J3 bKLs cotX invasion bis/Chords/3bKL/3bKL_Log.csv'\n"
     ]
    }
   ],
   "source": [
    "import os\n",
    "import numpy as np\n",
    "import pandas as pd\n",
    "\n",
    "# Replace this with the path to your directory\n",
    "directory = 'C:/Users/au704688/OneDrive - Aarhus universitet/Martin Gobry/Nanostars/Data processing/2023.05.23 J3 bKLs cotX invasion bis/Chords/3bKL/'\n",
    "\n",
    "# Set the calibration value\n",
    "calibration = 0.07\n",
    "\n",
    "# Get a list of all .npy files in the directory\n",
    "npy_files = [file for file in os.listdir(directory) if file.endswith('.npy')]\n",
    "\n",
    "# Create an empty list to store rows for the DataFrame\n",
    "data_rows = []\n",
    "\n",
    "# Load each .npy file, extract category and replicate from the name, and append data to the list\n",
    "for npy_file in npy_files:\n",
    "    variable_name = npy_file.replace('.npy', '')\n",
    "    parts = variable_name.split('_')\n",
    "    category = parts[-2]  # Extract category from the name\n",
    "    replicate = parts[-1]  # Extract replicate from the name\n",
    "    data = np.load(os.path.join(directory, npy_file), allow_pickle=True)\n",
    "    \n",
    "    # Loop through the data array, apply calibration and log10 transformation, and create rows for the DataFrame\n",
    "    for value in data:\n",
    "        calibrated_value = value * calibration\n",
    "        log10_value = np.log10(calibrated_value)  # Apply log10 transformation\n",
    "        data_rows.append([category, log10_value, replicate])\n",
    "\n",
    "# Create a DataFrame from the list of rows\n",
    "df = pd.DataFrame(data_rows, columns=['Categories', 'Chords', 'Replicate'])\n",
    "print(df)\n",
    "\n",
    "# Save the DataFrame as a CSV file\n",
    "csv_filename = 'C:/Users/au704688/OneDrive - Aarhus universitet/Martin Gobry/Nanostars/Data processing/2023.05.23 J3 bKLs cotX invasion bis/Chords/3bKL/3bKL_Log.csv'   # Change this to your desired CSV file name\n",
    "df.to_csv(csv_filename, index=False)\n",
    "\n",
    "print(f\"DataFrame saved as '{csv_filename}'\")\n"
   ]
  },
  {
   "cell_type": "code",
   "execution_count": null,
   "metadata": {},
   "outputs": [],
   "source": [
    "directory = 'C:/Users/au704688/OneDrive - Aarhus universitet/Martin Gobry/Nanostars/Data processing/2023.05.23 J3 bKLs cotX invasion bis/Violinplot troubleshooting/'\n"
   ]
  }
 ],
 "metadata": {
  "kernelspec": {
   "display_name": "Python 3",
   "language": "python",
   "name": "python3"
  },
  "language_info": {
   "codemirror_mode": {
    "name": "ipython",
    "version": 3
   },
   "file_extension": ".py",
   "mimetype": "text/x-python",
   "name": "python",
   "nbconvert_exporter": "python",
   "pygments_lexer": "ipython3",
   "version": "3.11.4"
  },
  "orig_nbformat": 4
 },
 "nbformat": 4,
 "nbformat_minor": 2
}
